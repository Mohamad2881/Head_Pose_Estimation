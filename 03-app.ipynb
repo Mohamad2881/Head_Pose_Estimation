{
 "cells": [
  {
   "cell_type": "code",
   "execution_count": 1,
   "id": "4b422192",
   "metadata": {},
   "outputs": [],
   "source": [
    "import numpy as np\n",
    "import pandas as pd\n",
    "import cv2\n",
    "\n",
    "import pickle\n",
    "\n",
    "import utlis"
   ]
  },
  {
   "cell_type": "code",
   "execution_count": 19,
   "id": "a926af7f",
   "metadata": {},
   "outputs": [],
   "source": [
    "# load the model from disk\n",
    "pitch_model_path = 'Saved models/model_pitch.pkl'\n",
    "roll_model_path = 'Saved models/model_roll.pkl'\n",
    "yaw_model_path = 'Saved models/model_yaw.pkl'\n",
    "\n",
    "pitch_model = pickle.load(open(pitch_model_path, 'rb'))\n",
    "roll_model = pickle.load(open(roll_model_path, 'rb'))\n",
    "yaw_model = pickle.load(open(yaw_model_path, 'rb'))"
   ]
  },
  {
   "cell_type": "code",
   "execution_count": null,
   "id": "192f1041",
   "metadata": {},
   "outputs": [],
   "source": []
  },
  {
   "cell_type": "code",
   "execution_count": 23,
   "id": "58cddf9a",
   "metadata": {},
   "outputs": [],
   "source": [
    "cap = cv2.VideoCapture(0)\n",
    "\n",
    "while True:\n",
    "    # read a frame\n",
    "    _, img = cap.read()\n",
    "    \n",
    "    # flip image \n",
    "    img = cv2.flip(img, 1)\n",
    "    \n",
    "    # Convert BGR to RGB \n",
    "    img_RGB = cv2.cvtColor(img, cv2.COLOR_BGR2RGB)\n",
    "    \n",
    "    # Get image dimensions\n",
    "    img_h, img_w, img_c = img_RGB.shape\n",
    "    \n",
    "    img, landmarks = utlis.find_face_landmarks(img, 3)\n",
    "\n",
    "    if not landmarks.empty:\n",
    "        # Get nose and chin points\n",
    "        n_x = landmarks['x2']\n",
    "        n_y = landmarks['y2']\n",
    "        chin_x = landmarks['x429']\n",
    "        chin_y = landmarks['y429']\n",
    "\n",
    "        # subtract nose point from all points and divide by the distance between nose and the chin\n",
    "        lands_normalized = utlis.normalize_df(landmarks, n_x, n_y, chin_x, chin_y)\n",
    "\n",
    "        # predict pitch, roll, yaw\n",
    "        pitchs = pitch_model.predict(lands_normalized)\n",
    "        rolls = roll_model.predict(lands_normalized)\n",
    "        yaws = yaw_model.predict(lands_normalized)\n",
    "\n",
    "        for i, (pitch, roll, yaw) in enumerate(zip(pitchs, rolls, yaws)):\n",
    "            img = utlis.draw_axis(img, yaw, pitch, roll, int(n_x[i]*img_w), int(n_y[i]*img_h))\n",
    "\n",
    "    cv2.imshow(\"window\", img)\n",
    "    if cv2.waitKey(1) & 0xFF == ord('q'):\n",
    "        break\n",
    "\n",
    "\n",
    "cap.release()\n",
    "cv2.destroyAllWindows()"
   ]
  },
  {
   "cell_type": "code",
   "execution_count": 22,
   "id": "9434f805",
   "metadata": {},
   "outputs": [],
   "source": []
  },
  {
   "cell_type": "code",
   "execution_count": null,
   "id": "a042baf5",
   "metadata": {},
   "outputs": [],
   "source": []
  }
 ],
 "metadata": {
  "kernelspec": {
   "display_name": "Python 3 (ipykernel)",
   "language": "python",
   "name": "python3"
  },
  "language_info": {
   "codemirror_mode": {
    "name": "ipython",
    "version": 3
   },
   "file_extension": ".py",
   "mimetype": "text/x-python",
   "name": "python",
   "nbconvert_exporter": "python",
   "pygments_lexer": "ipython3",
   "version": "3.8.6"
  }
 },
 "nbformat": 4,
 "nbformat_minor": 5
}
